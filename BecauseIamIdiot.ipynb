{
 "cells": [
  {
   "cell_type": "code",
   "execution_count": 2,
   "id": "907344c4-72d7-4d5a-bac0-78b9da92a372",
   "metadata": {},
   "outputs": [],
   "source": [
    "import os\n",
    "import time\n",
    "import glob"
   ]
  },
  {
   "cell_type": "code",
   "execution_count": 3,
   "id": "d572f176-a6ea-4f8b-a5c9-02b52d0c5f11",
   "metadata": {},
   "outputs": [],
   "source": [
    "def get_date_of_photo(photo):\n",
    "    '''This outputs the date for each photo YYYY-MM-DD \n",
    "    Ensure 'os' and 'time' are imported'''\n",
    "    ti_c = os.path.getctime(photo) # get time of file\n",
    "    c_ti = time.ctime(ti_c) # Convert time in seconds to timestamp\n",
    "    ti_m = os.path.getmtime(photo)\n",
    "    m_ti = time.ctime(ti_m)\n",
    "    t_obj = time.strptime(m_ti) # Use timestamp string to create time object/structure\n",
    "    t_stamp = time.strftime(\"%Y-%m-%d\", t_obj) # Transform time object to date timestamp    \n",
    "    return str(t_stamp)\n",
    "\n",
    "def add_date_2_filename(file):\n",
    "    '''This takes a filename and adds the date to the beginning of it.'''\n",
    "    return str(get_date_of_photo(file) + \"_\" + file)\n",
    "\n",
    "def rename_files_with_date(folderpath):\n",
    "    '''This renames the .IIQ files within a folder'''\n",
    "    currentdir = os.getcwd()\n",
    "    os.chdir(folderpath)\n",
    "    for filename in os.listdir(folderpath):\n",
    "        if '.IIQ' in filename and \"_\" not in filename: \n",
    "            os.rename(filename, add_date_2_filename(filename))\n",
    "        else:\n",
    "            pass\n",
    "    os.chdir(currentdir)\n",
    "    return 'Done'\n",
    "\n"
   ]
  },
  {
   "cell_type": "code",
   "execution_count": 59,
   "id": "fcff1c1b-0969-4c28-9374-07db520d1f92",
   "metadata": {},
   "outputs": [
    {
     "data": {
      "text/plain": [
       "True"
      ]
     },
     "execution_count": 59,
     "metadata": {},
     "output_type": "execute_result"
    }
   ],
   "source": [
    "path = '/Volumes/PHASEONE/DCIM/100PHASE/'\n",
    "os.path.exists(path)"
   ]
  },
  {
   "cell_type": "code",
   "execution_count": 60,
   "id": "17eac1a4-8b9c-4593-9553-777f64c82ce3",
   "metadata": {
    "scrolled": true,
    "tags": []
   },
   "outputs": [
    {
     "data": {
      "text/plain": [
       "1526"
      ]
     },
     "execution_count": 60,
     "metadata": {},
     "output_type": "execute_result"
    }
   ],
   "source": [
    "len(os.listdir(path))"
   ]
  },
  {
   "cell_type": "code",
   "execution_count": 61,
   "id": "6571610a-049e-4c94-b532-eea88c9c1386",
   "metadata": {
    "scrolled": true,
    "tags": []
   },
   "outputs": [
    {
     "data": {
      "text/plain": [
       "'Done'"
      ]
     },
     "execution_count": 61,
     "metadata": {},
     "output_type": "execute_result"
    }
   ],
   "source": [
    "rename_files_with_date(path)"
   ]
  },
  {
   "cell_type": "code",
   "execution_count": null,
   "id": "6db40e03-55b7-4614-87c1-bfc8978a9c2f",
   "metadata": {},
   "outputs": [],
   "source": []
  },
  {
   "cell_type": "code",
   "execution_count": null,
   "id": "662dfa9f-50a5-407e-a982-62a31b4d0475",
   "metadata": {},
   "outputs": [],
   "source": []
  }
 ],
 "metadata": {
  "kernelspec": {
   "display_name": "Python 3",
   "language": "python",
   "name": "python3"
  },
  "language_info": {
   "codemirror_mode": {
    "name": "ipython",
    "version": 3
   },
   "file_extension": ".py",
   "mimetype": "text/x-python",
   "name": "python",
   "nbconvert_exporter": "python",
   "pygments_lexer": "ipython3",
   "version": "3.9.5"
  }
 },
 "nbformat": 4,
 "nbformat_minor": 5
}
